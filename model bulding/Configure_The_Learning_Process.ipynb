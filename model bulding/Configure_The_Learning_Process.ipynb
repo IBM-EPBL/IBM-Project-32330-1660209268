{
  "cells": [
    {
      "cell_type": "code",
      "execution_count": null,
      "id": "d2e7066f",
      "metadata": {
        "id": "d2e7066f"
      },
      "outputs": [],
      "source": [
        "import numpy as np #used for numerical analysis\n",
        "import tensorflow #open source used for both ML and DL for computatio\n",
        "from tensorflow.keras.models import Sequential #it is a palin stack of layer \n",
        "from tensorflow.keras.layers import Layer #Alayer consists of a tensor-in tensor-out computation function\n",
        "from tensorflow.keras.layers import Dense,Flatten #flattening the input or change the dimension\n",
        "from tensorflow.keras.layers import Conv2D,MaxPooling2D,Dropout #convolution layer , MaxPooling2D-for downsampling the image\n",
        "from keras.preprocessing.image import ImageDataGenerator"
      ]
    },
    {
      "cell_type": "code",
      "execution_count": null,
      "id": "07c58ed1",
      "metadata": {
        "id": "07c58ed1"
      },
      "outputs": [],
      "source": [
        "model=Sequential()"
      ]
    },
    {
      "cell_type": "code",
      "execution_count": null,
      "id": "5160df58",
      "metadata": {
        "id": "5160df58"
      },
      "outputs": [],
      "source": [
        "model.add(Conv2D(32,(3,3),input_shape=(64,64,3),activation='relu'))"
      ]
    },
    {
      "cell_type": "code",
      "execution_count": null,
      "id": "e509a264",
      "metadata": {
        "id": "e509a264"
      },
      "outputs": [],
      "source": [
        "model.add(MaxPooling2D(pool_size =(2,2)))"
      ]
    },
    {
      "cell_type": "code",
      "execution_count": null,
      "id": "62dc9e25",
      "metadata": {
        "id": "62dc9e25"
      },
      "outputs": [],
      "source": [
        "model.add(Conv2D(32,(3,3),activation='relu'))\n",
        "model.add(MaxPooling2D(pool_size =(2,2)))\n",
        "model.add(Flatten())"
      ]
    },
    {
      "cell_type": "code",
      "execution_count": null,
      "id": "cb8859cd",
      "metadata": {
        "id": "cb8859cd"
      },
      "outputs": [],
      "source": [
        "model.add(Dense(units=128,activation='relu'))\n",
        "model.add(Dense(units=128,activation='softmax'))"
      ]
    },
    {
      "cell_type": "code",
      "execution_count": null,
      "id": "09f32271",
      "metadata": {
        "id": "09f32271",
        "outputId": "fe3cefc0-14f3-4202-8e6e-0b36ddabd4ed"
      },
      "outputs": [
        {
          "data": {
            "text/plain": [
              "<bound method Model.summary of <keras.engine.sequential.Sequential object at 0x00000147394BEC40>>"
            ]
          },
          "execution_count": 66,
          "metadata": {},
          "output_type": "execute_result"
        }
      ],
      "source": [
        "model.summary"
      ]
    },
    {
      "cell_type": "code",
      "execution_count": null,
      "id": "5ad7a653",
      "metadata": {
        "id": "5ad7a653"
      },
      "outputs": [],
      "source": [
        "model.compile(optimizer='adam',loss='sparse_categorical_crossentropy',metrics=['accuracy'])"
      ]
    },
    {
      "cell_type": "code",
      "execution_count": null,
      "id": "461491fd",
      "metadata": {
        "id": "461491fd"
      },
      "outputs": [],
      "source": []
    }
  ],
  "metadata": {
    "kernelspec": {
      "display_name": "Python 3 (ipykernel)",
      "language": "python",
      "name": "python3"
    },
    "language_info": {
      "codemirror_mode": {
        "name": "ipython",
        "version": 3
      },
      "file_extension": ".py",
      "mimetype": "text/x-python",
      "name": "python",
      "nbconvert_exporter": "python",
      "pygments_lexer": "ipython3",
      "version": "3.9.7"
    },
    "colab": {
      "provenance": []
    }
  },
  "nbformat": 4,
  "nbformat_minor": 5
}
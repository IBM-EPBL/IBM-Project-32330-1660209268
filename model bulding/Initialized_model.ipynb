{
  "cells": [
    {
      "cell_type": "code",
      "execution_count": null,
      "id": "6b8b74ec",
      "metadata": {
        "id": "6b8b74ec"
      },
      "outputs": [],
      "source": [
        "import numpy as np #used for numerical analysis\n",
        "import tensorflow #open source used for both ML and DL for computatio\n",
        "from tensorflow.keras.models import Sequential #it is a palin stack of layer \n",
        "from tensorflow.keras.layers import Layer #Alayer consists of a tensor-in tensor-out computation function\n",
        "from tensorflow.keras.layers import Dense,Flatten #flattening the input or change the dimension\n",
        "from tensorflow.keras.layers import Conv2D,MaxPooling2D,Dropout #convolution layer , MaxPooling2D-for downsampling the image\n",
        "from keras.preprocessing.image import ImageDataGenerator"
      ]
    },
    {
      "cell_type": "code",
      "execution_count": null,
      "id": "2d32899a",
      "metadata": {
        "id": "2d32899a"
      },
      "outputs": [],
      "source": [
        "model=Sequential()"
      ]
    },
    {
      "cell_type": "code",
      "execution_count": null,
      "id": "317c781e",
      "metadata": {
        "id": "317c781e"
      },
      "outputs": [],
      "source": []
    },
    {
      "cell_type": "code",
      "execution_count": null,
      "id": "02691f6c",
      "metadata": {
        "id": "02691f6c"
      },
      "outputs": [],
      "source": []
    },
    {
      "cell_type": "code",
      "execution_count": null,
      "id": "8ce76c98",
      "metadata": {
        "id": "8ce76c98"
      },
      "outputs": [],
      "source": []
    },
    {
      "cell_type": "code",
      "execution_count": null,
      "id": "5a0be453",
      "metadata": {
        "id": "5a0be453"
      },
      "outputs": [],
      "source": []
    },
    {
      "cell_type": "code",
      "execution_count": null,
      "id": "cfd3a3be",
      "metadata": {
        "id": "cfd3a3be"
      },
      "outputs": [],
      "source": []
    }
  ],
  "metadata": {
    "kernelspec": {
      "display_name": "Python 3 (ipykernel)",
      "language": "python",
      "name": "python3"
    },
    "language_info": {
      "codemirror_mode": {
        "name": "ipython",
        "version": 3
      },
      "file_extension": ".py",
      "mimetype": "text/x-python",
      "name": "python",
      "nbconvert_exporter": "python",
      "pygments_lexer": "ipython3",
      "version": "3.9.7"
    },
    "colab": {
      "provenance": []
    }
  },
  "nbformat": 4,
  "nbformat_minor": 5
}
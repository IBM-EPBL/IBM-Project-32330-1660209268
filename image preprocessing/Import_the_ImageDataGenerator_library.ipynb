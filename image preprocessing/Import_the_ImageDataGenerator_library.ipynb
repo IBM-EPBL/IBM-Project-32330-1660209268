{
  "cells": [
    {
      "cell_type": "code",
      "execution_count": null,
      "id": "79e7f5b1",
      "metadata": {
        "id": "79e7f5b1"
      },
      "outputs": [],
      "source": [
        "from keras.preprocessing.image import ImageDataGenerator"
      ]
    },
    {
      "cell_type": "code",
      "execution_count": null,
      "id": "457a7a1e",
      "metadata": {
        "id": "457a7a1e"
      },
      "outputs": [],
      "source": [
        ")"
      ]
    },
    {
      "cell_type": "code",
      "execution_count": null,
      "id": "8332de5c",
      "metadata": {
        "id": "8332de5c"
      },
      "outputs": [],
      "source": []
    },
    {
      "cell_type": "code",
      "execution_count": null,
      "id": "97f88a09",
      "metadata": {
        "id": "97f88a09"
      },
      "outputs": [],
      "source": []
    },
    {
      "cell_type": "code",
      "execution_count": null,
      "id": "9c55e608",
      "metadata": {
        "id": "9c55e608"
      },
      "outputs": [],
      "source": []
    },
    {
      "cell_type": "code",
      "execution_count": null,
      "id": "ed7a81a1",
      "metadata": {
        "id": "ed7a81a1"
      },
      "outputs": [],
      "source": [
        "\n"
      ]
    },
    {
      "cell_type": "code",
      "execution_count": null,
      "id": "467d131c",
      "metadata": {
        "id": "467d131c"
      },
      "outputs": [],
      "source": []
    }
  ],
  "metadata": {
    "kernelspec": {
      "display_name": "Python 3 (ipykernel)",
      "language": "python",
      "name": "python3"
    },
    "language_info": {
      "codemirror_mode": {
        "name": "ipython",
        "version": 3
      },
      "file_extension": ".py",
      "mimetype": "text/x-python",
      "name": "python",
      "nbconvert_exporter": "python",
      "pygments_lexer": "ipython3",
      "version": "3.9.7"
    },
    "colab": {
      "provenance": []
    }
  },
  "nbformat": 4,
  "nbformat_minor": 5
}